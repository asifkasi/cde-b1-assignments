{
  "cells": [
    {
      "cell_type": "markdown",
      "metadata": {
        "id": "1E5r3wPNed0G"
      },
      "source": [
        "\n",
        "\n",
        "# **Question No 01**\n",
        "\n",
        "Use a for loop to count the number of occurrences of the word in the list and return all indices where the word occurs.\n",
        "\n",
        "**Exmple:**\n",
        "\n",
        "Input: ['apple', 'banana', 'apple', 'cherry', 'apple'], Search: 'apple'  \n",
        "Output: 'apple' found 3 times at indices: 0, 2, 4\n",
        "\n"
      ]
    },
    {
      "cell_type": "code",
      "execution_count": 6,
      "metadata": {
        "id": "tHrz4YilefTD"
      },
      "outputs": [
        {
          "name": "stdout",
          "output_type": "stream",
          "text": [
            "apple found 3 times indices: 0, 2, 4, "
          ]
        }
      ],
      "source": [
        "list =  ['apple', 'banana', 'apple', 'cherry', 'apple']\n",
        "Search = 'apple'  \n",
        "var_count = 0\n",
        "var_indices = []\n",
        "\n",
        "for i in range(len(list)):\n",
        "    if list[i] == Search:\n",
        "        var_count += 1\n",
        "        var_indices.append(i)\n",
        "        \n",
        "\n",
        "print(f\"{Search} found {var_count} times indices: \",end=\"\")\n",
        "\n",
        "for i in var_indices:\n",
        "    print(i, end=\", \")"
      ]
    },
    {
      "cell_type": "markdown",
      "metadata": {
        "id": "fN_U0nnCeeAF"
      },
      "source": [
        "\n",
        "# **Question No 02**\n",
        "\n",
        "Create a program to find all unique pairs of numbers in a list that add up to a target sum.\n",
        "\n",
        "Use a single list and a for loop (nested if necessary) to iterate through and find pairs without duplicates.\n",
        "Avoid repeating pairs like [3, 5] and [5, 3].\n",
        "\n",
        "**Example:**\n",
        "\n",
        "Input list: [2, 4, 3, 5, 7, 8, 1]  \n",
        "Target sum: 9  \n",
        "Output: [(2, 7), (4, 5), (1, 8)]\n"
      ]
    },
    {
      "cell_type": "code",
      "execution_count": 14,
      "metadata": {
        "id": "AfsJP7KTef3T"
      },
      "outputs": [
        {
          "data": {
            "text/plain": [
              "[(2, 7), (4, 5), (8, 1)]"
            ]
          },
          "execution_count": 14,
          "metadata": {},
          "output_type": "execute_result"
        }
      ],
      "source": [
        "list =  [2, 4, 3, 5, 7, 8, 1] \n",
        "list_dup =  [2, 4, 3, 5, 7, 8, 1] \n",
        "\n",
        "Target_sum = 9\n",
        "pair = []\n",
        "\n",
        "for i in range(len(list)): \n",
        "    \n",
        "    list_dup.remove(list[i])\n",
        "    for j in list_dup:\n",
        "        if list[i]+j==Target_sum:\n",
        "            pair.append((list[i],j))\n",
        "            break\n",
        "\n",
        "pair"
      ]
    },
    {
      "cell_type": "markdown",
      "metadata": {
        "id": "d8ZH6VPNewLh"
      },
      "source": [
        "# **Question No 03**\n",
        "\n",
        "Write a program to calculate the cumulative product of elements in a list.\n",
        "\n",
        "Use a single list and update it in place to store the cumulative product at each index.\n",
        "Use only a for loop.\n",
        "\n",
        "**Example:**\n",
        "\n",
        "Input: [2, 3, 4, 5]  \n",
        "Output: [2, 6, 24, 120]  \n"
      ]
    },
    {
      "cell_type": "code",
      "execution_count": 16,
      "metadata": {
        "id": "pYPfUitge7nW"
      },
      "outputs": [
        {
          "data": {
            "text/plain": [
              "[2, 6, 24, 120]"
            ]
          },
          "execution_count": 16,
          "metadata": {},
          "output_type": "execute_result"
        }
      ],
      "source": [
        "list = [2,3,4,5]\n",
        "\n",
        "for i in range(1,len(list)):\n",
        "\n",
        "    list[i] = list[i] * list[i-1]\n",
        "\n",
        "list\n",
        "    \n",
        "    "
      ]
    },
    {
      "cell_type": "markdown",
      "metadata": {
        "id": "jEtwOjpEfAYA"
      },
      "source": [
        "# **Question No 04**\n",
        "\n",
        "Write a program to reshape a 1D list into a 2D grid.\n",
        "\n",
        "Accept a list of numbers and the number of rows as input.\n",
        "Use for loops to split the list into sublists, each representing a row.\n",
        "If the list cannot be evenly divided into rows, pad it with None.\n",
        "\n",
        "**Example:**\n",
        "Input: [1, 2, 3, 4, 5, 6, 7], Rows: 3  \n",
        "Output: [[1, 2, 3], [4, 5, 6], [7, None, None]]  \n",
        "\n"
      ]
    },
    {
      "cell_type": "code",
      "execution_count": null,
      "metadata": {
        "id": "tGRxqt0pfRql"
      },
      "outputs": [
        {
          "data": {
            "text/plain": [
              "[['1', ' 2', ' 3'], [' 4', ' 5', ' 6'], [' 7', None, None]]"
            ]
          },
          "execution_count": 48,
          "metadata": {},
          "output_type": "execute_result"
        }
      ],
      "source": [
        "var_list = input(\"please enter values with coma separate\").split(\",\")\n",
        "var_row = int(input(\"please enter row number\"))\n",
        "var_row_ac = -(-len(var_list)//var_row) \n",
        "\n",
        "for i in range(len(var_list),var_row_ac*var_row):\n",
        "    var_list.append(None)\n",
        "    \n",
        "arry2d = []\n",
        "\n",
        "for i in range(var_row_ac):\n",
        "    arry2d.append(var_list[i*var_row:i*var_row+var_row])\n",
        "    \n",
        "        \n",
        "arry2d"
      ]
    },
    {
      "cell_type": "markdown",
      "metadata": {
        "id": "iBPZVHDsfwpm"
      },
      "source": [
        "# **Question No 05**\n",
        "\n",
        "Write a program to sort a list of numbers into two separate lists:\n",
        "\n",
        "One list for all odd numbers (in ascending order).\n",
        "One list for all even numbers (in descending order).\n",
        "Use for loops for the entire process.\n",
        "\n",
        "**Example:**\n",
        "\n",
        "\n",
        "Input: [5, 8, 3, 10, 2, 7, 1, 6]  \n",
        "Output:  \n",
        "Odd: [1, 3, 5, 7]  \n",
        "Even: [10, 8, 6, 2]  \n"
      ]
    },
    {
      "cell_type": "code",
      "execution_count": 61,
      "metadata": {
        "id": "y8dyGGNAf42S"
      },
      "outputs": [
        {
          "name": "stdout",
          "output_type": "stream",
          "text": [
            "[1, 3, 5, 7]\n"
          ]
        },
        {
          "data": {
            "text/plain": [
              "[10, 8, 6, 2]"
            ]
          },
          "execution_count": 61,
          "metadata": {},
          "output_type": "execute_result"
        }
      ],
      "source": [
        "var_list = [5, 8, 3, 10, 2, 7, 1, 6]  \n",
        "var_list_even = []\n",
        "var_list_odd = []\n",
        "\n",
        "for i in range(len(var_list)):\n",
        "    if var_list[i] % 2 == 0:\n",
        "        var_list_even.append(var_list[i])\n",
        "    else:\n",
        "        var_list_odd.append(var_list[i])\n",
        "\n",
        "var_list_odd.sort()\n",
        "var_list_even.sort(reverse=True)\n",
        "print(var_list_odd)\n",
        "var_list_even\n"
      ]
    },
    {
      "cell_type": "markdown",
      "metadata": {
        "id": "X_LfOnqskNTe"
      },
      "source": [
        "# **Question No 06**\n",
        "\n",
        "Write a program that uses a for loop to count the frequency of each character in a given string and stores the result in a dictionary.\n",
        "\n",
        "The program should ignore spaces and be case-insensitive.\n",
        "Display the dictionary as the final output.\n",
        "\n",
        "**Example:**\n",
        "\n",
        "Input: \"Programming is fun\"  \n",
        "Output: {'p': 1, 'r': 2, 'o': 1, 'g': 2, 'a': 1, 'm': 2, 'i': 2, 'n': 2, 's': 1, 'f': 1, 'u': 1}\n",
        "\n"
      ]
    },
    {
      "cell_type": "code",
      "execution_count": 65,
      "metadata": {},
      "outputs": [
        {
          "data": {
            "text/plain": [
              "{'p': 1,\n",
              " 'r': 2,\n",
              " 'o': 1,\n",
              " 'g': 2,\n",
              " 'a': 1,\n",
              " 'm': 2,\n",
              " 'i': 2,\n",
              " 'n': 2,\n",
              " ' ': 2,\n",
              " 's': 1,\n",
              " 'f': 1,\n",
              " 'u': 1}"
            ]
          },
          "execution_count": 65,
          "metadata": {},
          "output_type": "execute_result"
        }
      ],
      "source": [
        "var = 'programming is fun'.lower()\n",
        "outpu_dic = {}\n",
        "for i in range(len(var)):\n",
        "    var_count =0\n",
        "    for j in range(len(var)):\n",
        "        if var[i] == var[j]:\n",
        "            var_count += 1\n",
        "    \n",
        "    outpu_dic[var[i]] = var_count\n",
        "outpu_dic"
      ]
    }
  ],
  "metadata": {
    "colab": {
      "provenance": []
    },
    "kernelspec": {
      "display_name": "Python 3",
      "name": "python3"
    },
    "language_info": {
      "codemirror_mode": {
        "name": "ipython",
        "version": 3
      },
      "file_extension": ".py",
      "mimetype": "text/x-python",
      "name": "python",
      "nbconvert_exporter": "python",
      "pygments_lexer": "ipython3",
      "version": "3.11.8"
    }
  },
  "nbformat": 4,
  "nbformat_minor": 0
}
