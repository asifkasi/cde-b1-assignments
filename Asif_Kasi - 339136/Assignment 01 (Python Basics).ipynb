{
 "cells": [
  {
   "cell_type": "markdown",
   "metadata": {},
   "source": [
    "# Part -1 Python Basics (Variables)"
   ]
  },
  {
   "cell_type": "markdown",
   "metadata": {},
   "source": [
    "1. Print Your Name with your Father name and Date of birth using suitable escape sequence charactor"
   ]
  },
  {
   "cell_type": "code",
   "execution_count": 10,
   "metadata": {},
   "outputs": [
    {
     "name": "stdout",
     "output_type": "stream",
     "text": [
      "Name: Asif Kasi\n",
      "Father Name: Qasim Kasi\n",
      "DOB: 01-Oct-1996\n"
     ]
    }
   ],
   "source": [
    "print(\"Name: Asif Kasi\\nFather Name: Qasim Kasi\\nDOB: 01-Oct-1996\")"
   ]
  },
  {
   "cell_type": "markdown",
   "metadata": {},
   "source": [
    "2. Write your small bio using variables and print it using print function"
   ]
  },
  {
   "cell_type": "code",
   "execution_count": 7,
   "metadata": {},
   "outputs": [
    {
     "name": "stdout",
     "output_type": "stream",
     "text": [
      "I am Asif Kasi.\n",
      "With 03 years of experience in Python.\n",
      "Working Remotely as Data Engineer in Now Created ltd\n"
     ]
    }
   ],
   "source": [
    "bio = 'I am Asif Kasi.\\nWith 03 years of experience in Python.\\nWorking Remotely as Data Engineer in Now Created ltd'\n",
    "print(bio)"
   ]
  },
  {
   "cell_type": "markdown",
   "metadata": {},
   "source": [
    "3. Write a program in which use all the operators we can use in Python"
   ]
  },
  {
   "cell_type": "code",
   "execution_count": 12,
   "metadata": {},
   "outputs": [
    {
     "name": "stdout",
     "output_type": "stream",
     "text": [
      "Arithmetic Operators:\n",
      "Addition: 13\n",
      "Subtraction: 7\n",
      "Multiplication: 30\n",
      "Division: 3.3333333333333335\n",
      "Floor Division: 3\n",
      "Modulus: 1\n",
      "Exponentiation: 1000\n",
      "\n",
      "Comparison Operators:\n",
      "Equal: False\n",
      "Not Equal: True\n",
      "Greater than: True\n",
      "Less than: False\n",
      "Greater than or equal to: True\n",
      "Less than or equal to: False\n",
      "\n",
      "Assignment Operators:\n",
      "Add and Assign: 7\n",
      "Subtract and Assign: 5\n",
      "Multiply and Assign: 10\n",
      "Divide and Assign: 5.0\n",
      "Modulus and Assign: 1.0\n",
      "Exponent and Assign: 1.0\n",
      "Floor Divide and Assign: 0.0\n"
     ]
    }
   ],
   "source": [
    "\n",
    "# Arithmetic Operators\n",
    "a, b = 10, 3\n",
    "print(\"Arithmetic Operators:\")\n",
    "print(\"Addition:\", a + b)\n",
    "print(\"Subtraction:\", a - b)\n",
    "print(\"Multiplication:\", a * b)\n",
    "print(\"Division:\", a / b)\n",
    "print(\"Floor Division:\", a // b)\n",
    "print(\"Modulus:\", a % b)\n",
    "print(\"Exponentiation:\", a ** b)\n",
    "\n",
    "# Comparison Operators\n",
    "print(\"\\nComparison Operators:\")\n",
    "print(\"Equal:\", a == b)\n",
    "print(\"Not Equal:\", a != b)\n",
    "print(\"Greater than:\", a > b)\n",
    "print(\"Less than:\", a < b)\n",
    "print(\"Greater than or equal to:\", a >= b)\n",
    "print(\"Less than or equal to:\", a <= b)\n",
    "\n",
    "# Assignment Operators\n",
    "c = 5\n",
    "print(\"\\nAssignment Operators:\")\n",
    "c += 2  # c = c + 2\n",
    "print(\"Add and Assign:\", c)\n",
    "c -= 2  # c = c - 2\n",
    "print(\"Subtract and Assign:\", c)\n",
    "c *= 2  # c = c * 2\n",
    "print(\"Multiply and Assign:\", c)\n",
    "c /= 2  # c = c / 2\n",
    "print(\"Divide and Assign:\", c)\n",
    "c %= 2  # c = c % 2\n",
    "print(\"Modulus and Assign:\", c)\n",
    "c **= 2  # c = c ** 2\n",
    "print(\"Exponent and Assign:\", c)\n",
    "c //= 2  # c = c // 2\n",
    "print(\"Floor Divide and Assign:\", c)"
   ]
  },
  {
   "cell_type": "markdown",
   "metadata": {},
   "source": [
    "4. Completes the following steps of small task:\n",
    "    - Mention Marks of English , Islamiat and Maths out of 100 in 3 different variables\n",
    "    - Mention Variable of Total Marks and assign 300 to it\n",
    "    - Calculate Percentage"
   ]
  },
  {
   "cell_type": "code",
   "execution_count": 11,
   "metadata": {},
   "outputs": [
    {
     "name": "stdout",
     "output_type": "stream",
     "text": [
      "61.66666666666667\n"
     ]
    }
   ],
   "source": [
    "var_english = 50\n",
    "var_islamiyat = 80\n",
    "var_maths = 55\n",
    "var_total = 300\n",
    "var_per = (var_english+var_islamiyat+var_maths)/var_total*100\n",
    "print(var_per)"
   ]
  },
  {
   "cell_type": "markdown",
   "metadata": {},
   "source": [
    "# Part -2 Python Basics (Conditional Statements)"
   ]
  },
  {
   "cell_type": "markdown",
   "metadata": {},
   "source": [
    "1) A company decided to give bonus of 5% to employee if his/her year of service is more than 5 years.\n",
    "Ask user for their salary and year of service and print the net bonus amount."
   ]
  },
  {
   "cell_type": "code",
   "execution_count": 18,
   "metadata": {},
   "outputs": [
    {
     "name": "stdout",
     "output_type": "stream",
     "text": [
      "your net bonus amount is 750.0 on behave of current salary 15000.0 with year serviced 10.0\n"
     ]
    }
   ],
   "source": [
    "var_sal = float(input(\"please enter your salary\"))\n",
    "var_yrs = float(input(\"please enter your years of service\"))\n",
    "var_bon = 0\n",
    "if var_yrs >5:\n",
    "    var_bon = (var_sal * 0.05)\n",
    "print(f\"your net bonus amount is {var_bon} on behave of current salary {var_sal} with year serviced {var_yrs}\")\n",
    "    "
   ]
  },
  {
   "cell_type": "markdown",
   "metadata": {},
   "source": [
    "\n",
    "2) Write a program to check whether a person is eligible for voting or not. (accept age from user) if age is greater than 17 eligible otherwise not eligible"
   ]
  },
  {
   "cell_type": "code",
   "execution_count": 19,
   "metadata": {},
   "outputs": [
    {
     "name": "stdout",
     "output_type": "stream",
     "text": [
      "you are not eligible for voting\n"
     ]
    }
   ],
   "source": [
    "var_age = int(input(\"please enter your age\"))\n",
    "if var_age>17:\n",
    "    print(\"you are eligible for voting\")\n",
    "else:\n",
    "    print(\"you are not eligible for voting\")"
   ]
  },
  {
   "cell_type": "markdown",
   "metadata": {},
   "source": [
    "\n",
    "3) Write a program to check whether a number entered by user is even or odd."
   ]
  },
  {
   "cell_type": "code",
   "execution_count": 31,
   "metadata": {},
   "outputs": [
    {
     "name": "stdout",
     "output_type": "stream",
     "text": [
      "your input number 5 is odd\n"
     ]
    }
   ],
   "source": [
    "var_num = int(input(\"please enter int number\"))\n",
    "if var_num%2 ==0:\n",
    "    print(f\"your input number {var_num} is even\")\n",
    "else:\n",
    "    print(f\"your input number {var_num} is odd\")"
   ]
  },
  {
   "cell_type": "markdown",
   "metadata": {},
   "source": [
    "4) Write a program to check whether a number is divisible by 7 or not.\n",
    "Show Answer"
   ]
  },
  {
   "cell_type": "code",
   "execution_count": 34,
   "metadata": {},
   "outputs": [
    {
     "name": "stdout",
     "output_type": "stream",
     "text": [
      "your input number 17 is not divisible by 7\n"
     ]
    }
   ],
   "source": [
    "var_num = int(input(\"please enter int number\"))\n",
    "if var_num%7 ==0:\n",
    "    print(f\"your input number {var_num}  is divisible by 7\")\n",
    "else:\n",
    "    print(f\"your input number {var_num} is not divisible by 7\")"
   ]
  },
  {
   "cell_type": "markdown",
   "metadata": {},
   "source": [
    "5) Write a program to display \n",
    "\"Hello\" if a number entered by user is a multiple of five , otherwise print \"Bye\"."
   ]
  },
  {
   "cell_type": "code",
   "execution_count": 36,
   "metadata": {},
   "outputs": [
    {
     "name": "stdout",
     "output_type": "stream",
     "text": [
      "Bye\n"
     ]
    }
   ],
   "source": [
    "var_num = int(input(\"please enter int number\"))\n",
    "if var_num%5 ==0:\n",
    "    print(\"Hello\")\n",
    "else:\n",
    "\n",
    "    print(\"Bye\")"
   ]
  },
  {
   "cell_type": "markdown",
   "metadata": {},
   "source": [
    "7) Write a program to display the last digit of a number.\n"
   ]
  },
  {
   "cell_type": "code",
   "execution_count": 37,
   "metadata": {},
   "outputs": [
    {
     "name": "stdout",
     "output_type": "stream",
     "text": [
      "6\n"
     ]
    }
   ],
   "source": [
    "var_num = 56\n",
    "print(str(var_num)[-1])"
   ]
  },
  {
   "cell_type": "markdown",
   "metadata": {},
   "source": [
    "9) Take values of length and breadth of a rectangle from user and print if it is square or rectangle."
   ]
  },
  {
   "cell_type": "code",
   "execution_count": 38,
   "metadata": {},
   "outputs": [
    {
     "name": "stdout",
     "output_type": "stream",
     "text": [
      "square\n"
     ]
    }
   ],
   "source": [
    "var_num1 = float(input(\"please enter value of length\"))\n",
    "var_num2 = float(input(\"please enter value of breadth\"))\n",
    "\n",
    "if  var_num1==var_num2:\n",
    "    print(\"square\")\n",
    "else:\n",
    "    print(\"rectangle\")\n",
    "\n"
   ]
  },
  {
   "cell_type": "markdown",
   "metadata": {},
   "source": [
    "10) Take two int values from user and print greatest among them."
   ]
  },
  {
   "cell_type": "code",
   "execution_count": 44,
   "metadata": {},
   "outputs": [
    {
     "name": "stdout",
     "output_type": "stream",
     "text": [
      "please enter valid number\n"
     ]
    }
   ],
   "source": [
    "var_num1 = int(input(\"please enter 1st int number\"))\n",
    "var_num2 = int(input(\"please enter 2nd int number\"))\n",
    "\n",
    "if var_num1==var_num2:\n",
    "    print(\"both numbers are equal\")\n",
    "elif var_num1>var_num2:\n",
    "    print(\"your 2nd input number is greater\")\n",
    "elif var_num1>var_num2:\n",
    "    \n",
    "    print(\"your 1st input number is greater\")\n",
    "else:\n",
    "    print(\"please enter valid number\")"
   ]
  },
  {
   "cell_type": "markdown",
   "metadata": {},
   "source": [
    "11) A shop will give discount of 10% if the cost of purchased quantity is more than 1000.\n",
    "Ask user for quantity\n",
    "Suppose, one unit will cost 100.\n",
    "Judge and print total cost for user."
   ]
  },
  {
   "cell_type": "code",
   "execution_count": 24,
   "metadata": {},
   "outputs": [
    {
     "name": "stdout",
     "output_type": "stream",
     "text": [
      "1800.0\n"
     ]
    }
   ],
   "source": [
    "var_qty = float(input(\"please enter purchased quantity\"))\n",
    "var_amount_WOD = var_qty*100\n",
    "var_amount_WD = var_amount_WOD\n",
    "\n",
    "if var_amount_WOD >1000:\n",
    "    var_amount_WD = var_amount_WOD-(var_amount_WOD*0.1)\n",
    "    \n",
    "\n",
    "print(var_amount_WD)"
   ]
  },
  {
   "cell_type": "markdown",
   "metadata": {},
   "source": [
    "12) A school has following rules for grading system:\n",
    "\n",
    "a. Below 25 - F\n",
    "\n",
    "b. 25 to 45 - E\n",
    "\n",
    "c. 45 to 50 - D\n",
    "\n",
    "d. 50 to 60 - C\n",
    "\n",
    "e. 60 to 80 - B\n",
    "\n",
    "f. Above 80 - A\n",
    "\n",
    "Ask user to enter marks and print the corresponding grade."
   ]
  },
  {
   "cell_type": "code",
   "execution_count": 45,
   "metadata": {},
   "outputs": [
    {
     "name": "stdout",
     "output_type": "stream",
     "text": [
      "Grade C\n"
     ]
    }
   ],
   "source": [
    "var_marks = float(input(\"Enter marks: \"))\n",
    "\n",
    "if var_marks >= 80 and var_marks < 101:\n",
    "    print(\"Grade A\")\n",
    "elif var_marks >= 60 and var_marks < 80:\n",
    "    print(\"Grade B\")\n",
    "elif var_marks >= 50 and var_marks < 60:\n",
    "    print(\"Grade C\")\n",
    "elif var_marks >= 45 and var_marks < 50:\n",
    "    print(\"Grade D\")\n",
    "elif var_marks >= 25 and var_marks < 45:\n",
    "    print(\"Grade E\")\n",
    "elif var_marks < 25:\n",
    "    print(\"Grade F\")\n",
    "else:\n",
    "    print(\"Invalid marks\")\n"
   ]
  },
  {
   "cell_type": "markdown",
   "metadata": {},
   "source": [
    "14)A student will not be allowed to sit in exam if his/her attendence is less than 75%.\n",
    "\n",
    "Take following input from user\n",
    "\n",
    "- Number of classes held\n",
    "\n",
    "- Number of classes attended.\n",
    "\n",
    "And print\n",
    "\n",
    "- percentage of class attended\n",
    "\n",
    "- Is student is allowed to sit in exam or not.\n"
   ]
  },
  {
   "cell_type": "code",
   "execution_count": 49,
   "metadata": {},
   "outputs": [
    {
     "name": "stdout",
     "output_type": "stream",
     "text": [
      "You are not allowed to sit in the exam.\n",
      "Your attendance percentage is:  27.27272727272727\n"
     ]
    }
   ],
   "source": [
    "var_held = int(input(\"Enter classes held: \"))\n",
    "var_att = int(input(\"Enter classes attended: \"))\n",
    "var_per = (var_att/var_held)*100\n",
    "\n",
    "if var_per >= 75:\n",
    "    print(\"You are allowed to sit in the exam.\")\n",
    "else:\n",
    "    print(\"You are not allowed to sit in the exam.\")\n",
    "print(\"Your attendance percentage is: \", var_per)"
   ]
  },
  {
   "cell_type": "markdown",
   "metadata": {},
   "source": [
    "15) Modify the above question to allow student to sit if he/she has medical cause. Ask user if he/she has medical cause or not ( 'Y' or 'N' ) and print accordingly."
   ]
  },
  {
   "cell_type": "code",
   "execution_count": 50,
   "metadata": {},
   "outputs": [
    {
     "name": "stdout",
     "output_type": "stream",
     "text": [
      "You are not allowed to sit in the exam.\n",
      "Your attendance percentage is:  27.27272727272727\n"
     ]
    }
   ],
   "source": [
    "var_held = int(input(\"Enter classes held: \"))\n",
    "var_att = int(input(\"Enter classes attended: \"))\n",
    "var_med = input(\"Do you have medical cause? ('Y' or 'N'): \")\n",
    "var_per = (var_att/var_held)*100\n",
    "\n",
    "if var_per >= 75 and var_med == 'Y' or var_med == 'y':\n",
    "    print(\"You are allowed to sit in the exam.\")\n",
    "else:\n",
    "    print(\"You are not allowed to sit in the exam.\")\n",
    "print(\"Your attendance percentage is: \", var_per)"
   ]
  },
  {
   "cell_type": "markdown",
   "metadata": {},
   "source": [
    "16) Write a program to check if a year is leap year or not.\n",
    "\n",
    "If a year is divisible by 4 then it is leap year but if the year is century year like 2000, 1900, 2100 then it must be divisible by 400."
   ]
  },
  {
   "cell_type": "code",
   "execution_count": 51,
   "metadata": {},
   "outputs": [
    {
     "name": "stdout",
     "output_type": "stream",
     "text": [
      "Leap year\n"
     ]
    }
   ],
   "source": [
    "var_year = int(input(\"Enter year\"))\n",
    "if var_year %4 ==0 and var_year %100 ==0 and var_year %400 ==0:\n",
    "    print(\"Leap year\")\n",
    "else:\n",
    "    print(\"Not a leap year\")\n",
    "\n"
   ]
  },
  {
   "cell_type": "markdown",
   "metadata": {},
   "source": [
    "17) Ask user to enter age, gender ( M or F ), marital status ( Y or N ) and then using following rules print their place of service.\n",
    "\n",
    "if employee is female, then she will work only in urban areas.\n",
    "\n",
    "if employee is a male and age is in between 20 to 40 then he may work in anywhere\n",
    "\n",
    "if employee is male and age is in between 40 t0 60 then he will work in urban areas only.\n",
    "\n",
    "And any other input of age should print \"ERROR\""
   ]
  },
  {
   "cell_type": "code",
   "execution_count": 57,
   "metadata": {},
   "outputs": [
    {
     "name": "stdout",
     "output_type": "stream",
     "text": [
      "You can only work in urban areas.\n"
     ]
    }
   ],
   "source": [
    "var_age = int(input(\"Enter your age: \"))\n",
    "var_gender = input(\"Enter your gender: (M or F)\")\n",
    "var_mar_status = input(\"Enter your Marital Status: (Y or N)\")\n",
    "if var_gender == \"F\" or var_gender == \"f\":\n",
    "    print(\"You can only work in urban areas.\")\n",
    "elif (var_gender == \"M\" or var_gender == \"m\") and var_age >= 20 and var_age <= 20:\n",
    "    print(\"You can work anywhere.\")\n",
    "elif (var_gender == \"M\" or var_gender == \"m\") and var_age >= 40 and var_age <= 60:\n",
    "    print(\"You can work in urban areas only.\")\n",
    "else:\n",
    "    print(\"ERROR\")\n"
   ]
  },
  {
   "cell_type": "markdown",
   "metadata": {},
   "source": [
    "6) Write a program to calculate the electricity bill (accept number of unit from user) according to the following criteria :\n",
    "     Unit                                                     Price  \n",
    "uptp 100 units                                             no charge\n",
    "Next 200 units                                              Rs 5 per unit\n",
    "After 200 units                                             Rs 10 per unit\n",
    "(For example if input unit is 350 than total bill amount is Rs.3500\n",
    "(For example if input unit is 97 than total bill amount is Rs.0\n",
    "(For example if input unit is 150 than total bill amount is Rs.750"
   ]
  },
  {
   "cell_type": "markdown",
   "metadata": {},
   "source": [
    "13) Take input of age of 3 people by user and determine oldest and youngest among them."
   ]
  },
  {
   "cell_type": "code",
   "execution_count": 58,
   "metadata": {},
   "outputs": [
    {
     "name": "stdout",
     "output_type": "stream",
     "text": [
      "Your bill is:  875.0\n"
     ]
    }
   ],
   "source": [
    "var_unit = float(input(\"Enter the unit: \"))\n",
    "bill = 0\n",
    "if var_unit <= 100:\n",
    "    bill = 0\n",
    "elif var_unit >= 100 and var_unit <= 200 :\n",
    "    bill = (var_unit  * 5)\n",
    "elif var_unit >= 200 :\n",
    "    bill = (var_unit  * 10)\n",
    "\n",
    "print(\"Your bill is: \", bill)\n"
   ]
  },
  {
   "cell_type": "code",
   "execution_count": null,
   "metadata": {},
   "outputs": [],
   "source": []
  }
 ],
 "metadata": {
  "kernelspec": {
   "display_name": "Python 3",
   "language": "python",
   "name": "python3"
  },
  "language_info": {
   "codemirror_mode": {
    "name": "ipython",
    "version": 3
   },
   "file_extension": ".py",
   "mimetype": "text/x-python",
   "name": "python",
   "nbconvert_exporter": "python",
   "pygments_lexer": "ipython3",
   "version": "3.11.8"
  }
 },
 "nbformat": 4,
 "nbformat_minor": 4
}
