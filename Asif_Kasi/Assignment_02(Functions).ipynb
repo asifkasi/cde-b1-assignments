{
  "cells": [
    {
      "cell_type": "markdown",
      "metadata": {
        "id": "WbWe2auqg3ZE"
      },
      "source": [
        "\n",
        "# **Question No 01**\n",
        "\n",
        "Write a function called create_word_count that takes a list of strings and returns a dictionary where:\n",
        "\n",
        "Keys are unique words from the list.\n",
        "Values are the count of occurrences of each word.\n",
        "\n",
        "**Exmple:**\n",
        "words = ['apple', 'banana', 'apple', 'cherry', 'banana', 'apple']\n",
        "result = create_word_count(words)\n",
        "print(result)  # {'apple': 3, 'banana': 2, 'cherry': 1}\n",
        "\n"
      ]
    },
    {
      "cell_type": "code",
      "execution_count": 1,
      "metadata": {
        "id": "Y7n-RlA-iywL"
      },
      "outputs": [
        {
          "data": {
            "text/plain": [
              "{'apple': 3, 'banana': 2, 'cherry': 1}"
            ]
          },
          "execution_count": 1,
          "metadata": {},
          "output_type": "execute_result"
        }
      ],
      "source": [
        "var =  ['apple', 'banana', 'apple', 'cherry', 'banana', 'apple']\n",
        "\n",
        "outpu_dic = {}\n",
        "\n",
        "def fun_count(var:list):\n",
        "    for i in range(len(var)):\n",
        "        var_count =0\n",
        "        for j in range(len(var)):\n",
        "            if var[i].lower() == var[j].lower():\n",
        "                var_count += 1\n",
        "        \n",
        "        outpu_dic[var[i]] = var_count\n",
        "        \n",
        "    return outpu_dic\n",
        "fun_count(var)"
      ]
    },
    {
      "cell_type": "markdown",
      "metadata": {
        "id": "CWDqnzRRg3br"
      },
      "source": [
        "# **Question No 02**\n",
        "\n",
        "Write a function called sort_by_key that takes a list of dictionaries and a key to sort by.\n",
        "\n",
        "The function should return a new list sorted by the given key in ascending order.\n",
        "If the key doesn’t exist in a dictionary, ignore that dictionary.\n",
        "\n",
        "**Exmple:**\n",
        "\n",
        "data = [{'name': 'Alice', 'age': 25}, {'name': 'Bob', 'age': 22}, {'name': 'Charlie', 'age': 30}]\n",
        "sorted_data = sort_by_key(data, 'age')\n",
        "print(sorted_data)  \n",
        "# [{'name': 'Bob', 'age': 22}, {'name': 'Alice', 'age': 25}, {'name': 'Charlie', 'age': 30}]\n",
        "\n"
      ]
    },
    {
      "cell_type": "code",
      "execution_count": null,
      "metadata": {
        "id": "y_7uTIbbi1fu"
      },
      "outputs": [],
      "source": [
        "data = [{'name': 'Alice', 'age': 25}, {'name': 'Bob', 'age': 22}, {'name': 'Charlie', 'age': 30}]\n",
        "\n",
        "def sort_by_key(data:dict):\n",
        "    newData={}\n",
        "    for i in data:\n",
        "        newData[i['age']]=i['name']\n",
        "    \n",
        "    return newData\n",
        "\n",
        "\n",
        "sorted_data = sort_by_key(data, 'age')\n",
        "print(sorted_data) "
      ]
    },
    {
      "cell_type": "markdown",
      "metadata": {
        "id": "CzVcAI2jg3ei"
      },
      "source": [
        "# **Question No 03**\n",
        "\n",
        "Write a function called filter_dict that takes a dictionary and a value threshold as arguments.\n",
        "\n",
        "The function should return a new dictionary containing only the key-value pairs where the value is greater than the threshold.\n",
        "\n",
        "**Exmple:**\n",
        "\n",
        "scores = {'Alice': 85, 'Bob': 90, 'Charlie': 78, 'David': 92}\n",
        "filtered_scores = filter_dict(scores, 80)\n",
        "print(filtered_scores)  # {'Alice': 85, 'Bob': 90, 'David': 92}\n",
        "\n"
      ]
    },
    {
      "cell_type": "code",
      "execution_count": 11,
      "metadata": {
        "id": "Y1fBZTKWi2wq"
      },
      "outputs": [
        {
          "name": "stdout",
          "output_type": "stream",
          "text": [
            "{'Bob': 90, 'David': 92}\n"
          ]
        }
      ],
      "source": [
        "scores = {'Alice': 85, 'Bob': 90, 'Charlie': 78, 'David': 92}\n",
        "def filter_dict(scores, mrks):\n",
        "    final_dict_ = {}\n",
        "    for std in scores:\n",
        "        if scores[std] >= mrks:\n",
        "            final_dict_[std] = scores[std]\n",
        "    return final_dict_\n",
        "filtered_scores = filter_dict(scores, 80)\n",
        "print(filtered_scores)  # {'Alice': 85, 'Bob': 90, 'David': 92}\n"
      ]
    },
    {
      "cell_type": "markdown",
      "metadata": {
        "id": "sKZLjKbog3jw"
      },
      "source": [
        "# **Question No 04**\n",
        "\n",
        "Write a function called find_common_keys that takes two dictionaries and returns a list of keys that are common to both.\n",
        "\n",
        "\n",
        "**Exmple:**\n",
        "\n",
        "dict1 = {'a': 1, 'b': 2, 'c': 3}\n",
        "dict2 = {'b': 4, 'c': 5, 'd': 6}\n",
        "common_keys = find_common_keys(dict1, dict2)\n",
        "print(common_keys)  # ['b', 'c']\n"
      ]
    },
    {
      "cell_type": "code",
      "execution_count": null,
      "metadata": {
        "id": "IRSWbYvfi3cg"
      },
      "outputs": [
        {
          "name": "stdout",
          "output_type": "stream",
          "text": [
            "['b', 'c']\n"
          ]
        }
      ],
      "source": [
        "dict1 = {'a': 1, 'b': 2, 'c': 3}\n",
        "dict2 = {'b': 4, 'c': 5, 'd': 6}\n",
        "def find_common_keys(dict1, dict2):\n",
        "    common_keys = []\n",
        "    for key in dict1.keys():\n",
        "        if key in dict2.keys():\n",
        "            common_keys.append(key)\n",
        "    return common_keys\n",
        "common_keys = find_common_keys(dict1, dict2)\n",
        "print(common_keys)  "
      ]
    },
    {
      "cell_type": "markdown",
      "metadata": {
        "id": "xBNyzbF6i41L"
      },
      "source": [
        "# **Question No 5**\n",
        "\n",
        "Write a function called update_grades that takes a list of dictionaries (representing students with their grades) and updates the grade of a student if their name matches the given name.\n",
        "\n",
        "\n",
        "**Exmple:**\n",
        "\n",
        "students = [{'name': 'Alice', 'grade': 85}, {'name': 'Bob', 'grade': 90}]\n",
        "updated_students = update_grades(students, 'Bob', 95)\n",
        "print(updated_students)  \n",
        "# [{'name': 'Alice', 'grade': 85}, {'name': 'Bob', 'grade': 95}]\n",
        "\n"
      ]
    },
    {
      "cell_type": "code",
      "execution_count": 6,
      "metadata": {
        "id": "dM8_HJcPi5wH"
      },
      "outputs": [
        {
          "name": "stdout",
          "output_type": "stream",
          "text": [
            "[{'name': 'Alice', 'grade': 85}, {'name': 'Bob', 'grade': 95}]\n"
          ]
        }
      ],
      "source": [
        "students = [{'name': 'Alice', 'grade': 85}, {'name': 'Bob', 'grade': 90}]\n",
        "def update_grades(students, std_name, marks):\n",
        "    for student in students:\n",
        "        if student['name'] == std_name:\n",
        "            student['grade'] = marks\n",
        "            return students\n",
        "            \n",
        "updated_students = update_grades(students, 'Bob', 95)\n",
        "print(updated_students)  "
      ]
    },
    {
      "cell_type": "markdown",
      "metadata": {
        "id": "LVPjDOqojosu"
      },
      "source": [
        "# **Question No 6**\n",
        "\n",
        "Write a function called merge_lists_to_dict that takes two lists of equal length:\n",
        "\n",
        "The first list contains keys.\n",
        "The second list contains values.\n",
        "The function should return a dictionary created by merging these lists.\n",
        "\n",
        "**Exmple:**\n",
        "keys = ['name', 'age', 'city']\n",
        "values = ['Alice', 25, 'New York']\n",
        "result = merge_lists_to_dict(keys, values)\n",
        "print(result)  # {'name': 'Alice', 'age': 25, 'city': 'New York'}\n",
        "\n"
      ]
    },
    {
      "cell_type": "code",
      "execution_count": 5,
      "metadata": {
        "id": "WXCP48lRjyET"
      },
      "outputs": [
        {
          "name": "stdout",
          "output_type": "stream",
          "text": [
            "{'name': 'Alice', 'age': 25, 'city': 'New York'}\n"
          ]
        }
      ],
      "source": [
        "keys = ['name', 'age', 'city']\n",
        "values = ['Alice', 25, 'New York']\n",
        "\n",
        "def merge_lists_to_dict(keys, values):\n",
        "    dict_={}\n",
        "    for i in range(len(keys)):\n",
        "            dict_[keys[i]] = values[i]\n",
        "    return dict_\n",
        "\n",
        "result = merge_lists_to_dict(keys, values)\n",
        "\n",
        "print(result)"
      ]
    },
    {
      "cell_type": "code",
      "execution_count": null,
      "metadata": {},
      "outputs": [],
      "source": []
    }
  ],
  "metadata": {
    "colab": {
      "provenance": []
    },
    "kernelspec": {
      "display_name": "Python 3",
      "name": "python3"
    },
    "language_info": {
      "codemirror_mode": {
        "name": "ipython",
        "version": 3
      },
      "file_extension": ".py",
      "mimetype": "text/x-python",
      "name": "python",
      "nbconvert_exporter": "python",
      "pygments_lexer": "ipython3",
      "version": "3.11.8"
    }
  },
  "nbformat": 4,
  "nbformat_minor": 0
}
